{
 "cells": [
  {
   "cell_type": "markdown",
   "metadata": {},
   "source": [
    "## Abgabe"
   ]
  },
  {
   "cell_type": "markdown",
   "metadata": {},
   "source": [
    "### Drei Punkte (neben Gliederung), exportieren, html, ok -> \n",
    "### html und ipynb herunterladen -> lokal abspeichern in ordner vitalmi1 -> daraus zip.datei (komprimieren in) erstellen -> \n",
    "### zip.Datei auf moodle hochladen"
   ]
  },
  {
   "cell_type": "markdown",
   "metadata": {},
   "source": []
  }
 ],
 "metadata": {
  "language_info": {
   "name": "python"
  }
 },
 "nbformat": 4,
 "nbformat_minor": 2
}
